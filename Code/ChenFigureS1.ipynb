{
  "nbformat": 4,
  "nbformat_minor": 0,
  "metadata": {
    "colab": {
      "provenance": [],
      "authorship_tag": "ABX9TyNQ7iE8FLyj8Ja+L6ij1iOT",
      "include_colab_link": true
    },
    "kernelspec": {
      "name": "python3",
      "display_name": "Python 3"
    },
    "language_info": {
      "name": "python"
    }
  },
  "cells": [
    {
      "cell_type": "markdown",
      "metadata": {
        "id": "view-in-github",
        "colab_type": "text"
      },
      "source": [
        "<a href=\"https://colab.research.google.com/github/yiruchen4/Chen2025/blob/main/Code/ChenFigureS1.ipynb\" target=\"_parent\"><img src=\"https://colab.research.google.com/assets/colab-badge.svg\" alt=\"Open In Colab\"/></a>"
      ]
    },
    {
      "cell_type": "code",
      "execution_count": null,
      "metadata": {
        "id": "mhfNg4_KOr20"
      },
      "outputs": [],
      "source": [
        "from IPython.display import Image\n",
        "import warnings\n",
        "\n",
        "warnings.filterwarnings(\"ignore\")"
      ]
    },
    {
      "cell_type": "code",
      "source": [
        "# @title Figure S1A\n",
        "Image(url='https://github.com/yiruchen4/Chen2025/blob/main/Images/Figure%20S1A.png?raw=true', width=1000)"
      ],
      "metadata": {
        "colab": {
          "base_uri": "https://localhost:8080/",
          "height": 473
        },
        "id": "ORxxbgm8SpsV",
        "outputId": "a84cd1df-ca22-4591-af8f-506de59571d1"
      },
      "execution_count": null,
      "outputs": [
        {
          "output_type": "execute_result",
          "data": {
            "text/html": [
              "<img src=\"https://github.com/yiruchen4/Chen2025/blob/main/Images/Figure%20S1A.png?raw=true\" width=\"1000\"/>"
            ],
            "text/plain": [
              "<IPython.core.display.Image object>"
            ]
          },
          "metadata": {},
          "execution_count": 25
        }
      ]
    },
    {
      "cell_type": "code",
      "source": [
        "# @title Figure S1B\n",
        "Image(url='https://github.com/yiruchen4/Chen2025/blob/main/Images/Figure%20S1B.png?raw=true', width=300)"
      ],
      "metadata": {
        "colab": {
          "base_uri": "https://localhost:8080/",
          "height": 335
        },
        "id": "3RJfvOJhgl4l",
        "outputId": "372e9821-bc52-43c9-bf99-836b7bdd7a3f"
      },
      "execution_count": null,
      "outputs": [
        {
          "output_type": "execute_result",
          "data": {
            "text/html": [
              "<img src=\"https://github.com/yiruchen4/Chen2025/blob/main/Images/Figure%20S1B.png?raw=true\" width=\"300\"/>"
            ],
            "text/plain": [
              "<IPython.core.display.Image object>"
            ]
          },
          "metadata": {},
          "execution_count": 27
        }
      ]
    },
    {
      "cell_type": "code",
      "source": [
        "# @title Figure S1C\n",
        "Image(url='https://github.com/yiruchen4/Chen2025/blob/main/Images/Figure%20S1C.png?raw=true', width=300)"
      ],
      "metadata": {
        "colab": {
          "base_uri": "https://localhost:8080/",
          "height": 335
        },
        "id": "ujpO7WvRgwP0",
        "outputId": "3e61e26d-d38b-4ddb-a5f0-daee00a6d6ac"
      },
      "execution_count": null,
      "outputs": [
        {
          "output_type": "execute_result",
          "data": {
            "text/html": [
              "<img src=\"https://github.com/yiruchen4/Chen2025/blob/main/Images/Figure%20S1C.png?raw=true\" width=\"300\"/>"
            ],
            "text/plain": [
              "<IPython.core.display.Image object>"
            ]
          },
          "metadata": {},
          "execution_count": 28
        }
      ]
    },
    {
      "cell_type": "code",
      "source": [],
      "metadata": {
        "id": "nmeRmLMieMpG"
      },
      "execution_count": null,
      "outputs": []
    }
  ]
}